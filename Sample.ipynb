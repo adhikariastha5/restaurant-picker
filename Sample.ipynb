{
 "cells": [
  {
   "cell_type": "code",
   "execution_count": 17,
   "metadata": {},
   "outputs": [],
   "source": [
    "import requests\n",
    "import json\n",
    "import time\n",
    "from time import sleep\n",
    "import bs4\n",
    "\n",
    "from selenium import webdriver\n",
    "from selenium.webdriver.common.by import By\n",
    "from selenium.webdriver.support.ui import WebDriverWait\n",
    "from selenium.webdriver.support import expected_conditions as EC\n",
    "from selenium.webdriver.common.keys import Keys\n",
    "from selenium.webdriver.common.action_chains import ActionChains"
   ]
  },
  {
   "cell_type": "code",
   "execution_count": 18,
   "metadata": {},
   "outputs": [],
   "source": [
    "#LOGGING IN\n",
    "driver= webdriver.Firefox(executable_path='./geckodriver')\n",
    "driver.get(\"https://www.instagram.com/accounts/login/?force_classic_login\")\n",
    "driver.find_element_by_xpath(\"//input[@name='username']\").send_keys(\"your own username here\")\n",
    "driver.find_element_by_xpath(\"//input[@name='password']\").send_keys(\"your own password here\")\n",
    "driver.find_element_by_xpath(\"//input[@type='submit']\").click()\n",
    "\n",
    "driver.get(\"https://www.instagram.com/{0}/\".format(\"mr.foodie_nepal\"))\n",
    "driver.get(\"https://www.instagram.com/{0}/\".format(\"p/BvjabLTBEXm\"))\n",
    "\n",
    "numbers=driver.find_elements_by_xpath(\"//span[@title='Edited']\")\n",
    "\n",
    "\n",
    "#<span title=\"Edited\">ONE OF THE HIT POST OF 2️⃣0️⃣1️⃣8️⃣<br>.<br>This icecream bar got so popular last year when I posted it for the 1st time 😱<br>Thanks to you guys, many of you went to try it &amp; unexpectedly the owner of the place actually messaged  me to show his gratitude for the post &amp; invited me again but sadly couldn’t visit again anytime soon 😶<br>So went today after so long for it 😍<br>.<br>♨️SACH MUCH AAM (MANGO BAR)<br>📍Where: Exactly behind the icecream bar in the picture (Mangal Bazar, Rani Pokhari)<br>💰NPR. 85 each EXTRA (SC &amp; VAT: ❌)<br>💳Pos Machine: ❎<br>®️Rating: 10/10<br>🅿️Parking: Street Parking ✅(🛵🚘)<br>.<br>IF YOU LOVE “MANGO” YOU HAVE TO TRY THIS... OMG IDK HOW THEY REPLICATED THE EXACT (&amp; EXTACT MEANS EXACTLY THAT) TASTE OF A MANGO INTO A ICECREAM BAR<br>HATS OFF 👌🏻<br><a href=\"/explore/tags/mrfoodienepal/\">#mrfoodienepal</a> <a href=\"/explore/tags/stayhungry/\">#stayhungry</a> <a href=\"/explore/tags/damidamidami/\">#damidamidami</a> 👌🏻</span>"
   ]
  },
  {
   "cell_type": "code",
   "execution_count": 19,
   "metadata": {},
   "outputs": [
    {
     "name": "stdout",
     "output_type": "stream",
     "text": [
      "[['ONE OF THE HIT POST OF 2️⃣0️⃣1️⃣8️⃣', '.', 'This icecream bar got so popular last year when I posted it for the 1st time 😱', 'Thanks to you guys, many of you went to try it & unexpectedly the owner of the place actually messaged me to show his gratitude for the post & invited me again but sadly couldn’t visit again anytime soon 😶', 'So went today after so long for it 😍', '.', '♨️SACH MUCH AAM (MANGO BAR)', '📍Where: Exactly behind the icecream bar in the picture (Mangal Bazar, Rani Pokhari)', '💰NPR. 85 each EXTRA (SC & VAT: ❌)', '💳Pos Machine: ❎', '®️Rating: 10/10', '🅿️Parking: Street Parking ✅(🛵🚘)', '.', 'IF YOU LOVE “MANGO” YOU HAVE TO TRY THIS... OMG IDK HOW THEY REPLICATED THE EXACT (& EXTACT MEANS EXACTLY THAT) TASTE OF A MANGO INTO A ICECREAM BAR', 'HATS OFF 👌🏻', '#mrfoodienepal #stayhungry #damidamidami 👌🏻']]\n"
     ]
    }
   ],
   "source": [
    "print([ elem.text.split('\\n') for elem in numbers ])"
   ]
  },
  {
   "cell_type": "code",
   "execution_count": null,
   "metadata": {},
   "outputs": [],
   "source": []
  }
 ],
 "metadata": {
  "kernelspec": {
   "display_name": "Python 3",
   "language": "python",
   "name": "python3"
  },
  "language_info": {
   "codemirror_mode": {
    "name": "ipython",
    "version": 3
   },
   "file_extension": ".py",
   "mimetype": "text/x-python",
   "name": "python",
   "nbconvert_exporter": "python",
   "pygments_lexer": "ipython3",
   "version": "3.6.5"
  }
 },
 "nbformat": 4,
 "nbformat_minor": 2
}
