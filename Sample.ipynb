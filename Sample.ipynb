{
 "cells": [
  {
   "cell_type": "code",
   "execution_count": 1,
   "metadata": {},
   "outputs": [],
   "source": [
    "import requests\n",
    "import json\n",
    "import time\n",
    "from time import sleep\n",
    "import bs4\n",
    "\n",
    "from selenium import webdriver\n",
    "from selenium.webdriver.common.by import By\n",
    "from selenium.webdriver.support.ui import WebDriverWait\n",
    "from selenium.webdriver.support import expected_conditions as EC\n",
    "from selenium.webdriver.common.keys import Keys\n",
    "from selenium.webdriver.common.action_chains import ActionChains"
   ]
  },
  {
   "cell_type": "code",
   "execution_count": null,
   "metadata": {},
   "outputs": [],
   "source": [
    "#LOGGING IN\n",
    "driver= webdriver.Firefox(executable_path='./geckodriver')\n",
    "driver.get(\"https://www.instagram.com/accounts/login/?force_classic_login\")\n",
    "driver.find_element_by_xpath(\"//input[@name='username']\").send_keys(\"your own username here\")\n",
    "driver.find_element_by_xpath(\"//input[@name='password']\").send_keys(\"your own password here\")\n",
    "driver.find_element_by_xpath(\"//input[@type='submit']\").click()\n",
    "\n",
    "driver.get(\"https://www.instagram.com/{0}/\".format(\"mr.foodie_nepal\"))"
   ]
  }
 ],
 "metadata": {
  "kernelspec": {
   "display_name": "Python 3",
   "language": "python",
   "name": "python3"
  },
  "language_info": {
   "codemirror_mode": {
    "name": "ipython",
    "version": 3
   },
   "file_extension": ".py",
   "mimetype": "text/x-python",
   "name": "python",
   "nbconvert_exporter": "python",
   "pygments_lexer": "ipython3",
   "version": "3.6.5"
  }
 },
 "nbformat": 4,
 "nbformat_minor": 2
}
